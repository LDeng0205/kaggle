{
 "cells": [
  {
   "cell_type": "code",
   "execution_count": 1,
   "id": "proof-people",
   "metadata": {},
   "outputs": [],
   "source": [
    "import numpy as np\n",
    "import tensorflow as tf\n",
    "import numpy as np\n",
    "from tensorflow import keras\n",
    "from tensorflow.keras import layers\n",
    "from tensorflow.keras.optimizers import Adam\n",
    "import pandas as pd"
   ]
  },
  {
   "cell_type": "code",
   "execution_count": 4,
   "id": "fluid-polyester",
   "metadata": {},
   "outputs": [
    {
     "name": "stdout",
     "output_type": "stream",
     "text": [
      "(891, 12)\n"
     ]
    },
    {
     "data": {
      "text/html": [
       "<div>\n",
       "<style scoped>\n",
       "    .dataframe tbody tr th:only-of-type {\n",
       "        vertical-align: middle;\n",
       "    }\n",
       "\n",
       "    .dataframe tbody tr th {\n",
       "        vertical-align: top;\n",
       "    }\n",
       "\n",
       "    .dataframe thead th {\n",
       "        text-align: right;\n",
       "    }\n",
       "</style>\n",
       "<table border=\"1\" class=\"dataframe\">\n",
       "  <thead>\n",
       "    <tr style=\"text-align: right;\">\n",
       "      <th></th>\n",
       "      <th>PassengerId</th>\n",
       "      <th>Survived</th>\n",
       "      <th>Pclass</th>\n",
       "      <th>Name</th>\n",
       "      <th>Sex</th>\n",
       "      <th>Age</th>\n",
       "      <th>SibSp</th>\n",
       "      <th>Parch</th>\n",
       "      <th>Ticket</th>\n",
       "      <th>Fare</th>\n",
       "      <th>Cabin</th>\n",
       "      <th>Embarked</th>\n",
       "    </tr>\n",
       "  </thead>\n",
       "  <tbody>\n",
       "    <tr>\n",
       "      <th>0</th>\n",
       "      <td>1</td>\n",
       "      <td>0</td>\n",
       "      <td>3</td>\n",
       "      <td>Braund, Mr. Owen Harris</td>\n",
       "      <td>male</td>\n",
       "      <td>22.0</td>\n",
       "      <td>1</td>\n",
       "      <td>0</td>\n",
       "      <td>A/5 21171</td>\n",
       "      <td>7.2500</td>\n",
       "      <td>NaN</td>\n",
       "      <td>S</td>\n",
       "    </tr>\n",
       "    <tr>\n",
       "      <th>1</th>\n",
       "      <td>2</td>\n",
       "      <td>1</td>\n",
       "      <td>1</td>\n",
       "      <td>Cumings, Mrs. John Bradley (Florence Briggs Th...</td>\n",
       "      <td>female</td>\n",
       "      <td>38.0</td>\n",
       "      <td>1</td>\n",
       "      <td>0</td>\n",
       "      <td>PC 17599</td>\n",
       "      <td>71.2833</td>\n",
       "      <td>C85</td>\n",
       "      <td>C</td>\n",
       "    </tr>\n",
       "    <tr>\n",
       "      <th>2</th>\n",
       "      <td>3</td>\n",
       "      <td>1</td>\n",
       "      <td>3</td>\n",
       "      <td>Heikkinen, Miss. Laina</td>\n",
       "      <td>female</td>\n",
       "      <td>26.0</td>\n",
       "      <td>0</td>\n",
       "      <td>0</td>\n",
       "      <td>STON/O2. 3101282</td>\n",
       "      <td>7.9250</td>\n",
       "      <td>NaN</td>\n",
       "      <td>S</td>\n",
       "    </tr>\n",
       "    <tr>\n",
       "      <th>3</th>\n",
       "      <td>4</td>\n",
       "      <td>1</td>\n",
       "      <td>1</td>\n",
       "      <td>Futrelle, Mrs. Jacques Heath (Lily May Peel)</td>\n",
       "      <td>female</td>\n",
       "      <td>35.0</td>\n",
       "      <td>1</td>\n",
       "      <td>0</td>\n",
       "      <td>113803</td>\n",
       "      <td>53.1000</td>\n",
       "      <td>C123</td>\n",
       "      <td>S</td>\n",
       "    </tr>\n",
       "    <tr>\n",
       "      <th>4</th>\n",
       "      <td>5</td>\n",
       "      <td>0</td>\n",
       "      <td>3</td>\n",
       "      <td>Allen, Mr. William Henry</td>\n",
       "      <td>male</td>\n",
       "      <td>35.0</td>\n",
       "      <td>0</td>\n",
       "      <td>0</td>\n",
       "      <td>373450</td>\n",
       "      <td>8.0500</td>\n",
       "      <td>NaN</td>\n",
       "      <td>S</td>\n",
       "    </tr>\n",
       "  </tbody>\n",
       "</table>\n",
       "</div>"
      ],
      "text/plain": [
       "   PassengerId  Survived  Pclass  \\\n",
       "0            1         0       3   \n",
       "1            2         1       1   \n",
       "2            3         1       3   \n",
       "3            4         1       1   \n",
       "4            5         0       3   \n",
       "\n",
       "                                                Name     Sex   Age  SibSp  \\\n",
       "0                            Braund, Mr. Owen Harris    male  22.0      1   \n",
       "1  Cumings, Mrs. John Bradley (Florence Briggs Th...  female  38.0      1   \n",
       "2                             Heikkinen, Miss. Laina  female  26.0      0   \n",
       "3       Futrelle, Mrs. Jacques Heath (Lily May Peel)  female  35.0      1   \n",
       "4                           Allen, Mr. William Henry    male  35.0      0   \n",
       "\n",
       "   Parch            Ticket     Fare Cabin Embarked  \n",
       "0      0         A/5 21171   7.2500   NaN        S  \n",
       "1      0          PC 17599  71.2833   C85        C  \n",
       "2      0  STON/O2. 3101282   7.9250   NaN        S  \n",
       "3      0            113803  53.1000  C123        S  \n",
       "4      0            373450   8.0500   NaN        S  "
      ]
     },
     "execution_count": 4,
     "metadata": {},
     "output_type": "execute_result"
    }
   ],
   "source": [
    "data = pd.read_csv(\"titanic/train.csv\")\n",
    "# print(data.head())\n",
    "print(data.shape)\n",
    "data.head()"
   ]
  },
  {
   "cell_type": "code",
   "execution_count": 39,
   "id": "combined-worry",
   "metadata": {},
   "outputs": [],
   "source": [
    "def processEmbarked(emb):\n",
    "    #C:0 Q:1 S:2\n",
    "    ret = []\n",
    "    for i in range(emb.shape[0]):\n",
    "        init = len(ret)\n",
    "        if emb.loc[i] == 'C':\n",
    "            ret.append(0)\n",
    "        elif emb.loc[i] == 'Q':\n",
    "            ret.append(1)\n",
    "        else:\n",
    "            ret.append(2)\n",
    "        end = len(ret)\n",
    "        if (end-init != 1):\n",
    "            print(i)\n",
    "    return ret\n",
    "\n",
    "def processSex(sex):\n",
    "    ret = []\n",
    "    for i in range(sex.shape[0]):\n",
    "        if sex.loc[i] == 'male':\n",
    "            ret.append(1)\n",
    "        else:\n",
    "            ret.append(0)\n",
    "    return ret\n",
    "emb, sex = data['Embarked'].fillna(0), data['Sex'].fillna(0)\n",
    "emb, sex = processEmbarked(emb), processSex(sex)"
   ]
  },
  {
   "cell_type": "code",
   "execution_count": 43,
   "id": "worse-kelly",
   "metadata": {},
   "outputs": [
    {
     "name": "stdout",
     "output_type": "stream",
     "text": [
      "(891, 7)\n",
      "(891,)\n"
     ]
    }
   ],
   "source": [
    "train = np.vstack([data['Pclass'].fillna(0).to_numpy(), data['Age'].fillna(0).to_numpy(), data['SibSp'].fillna(0).to_numpy(), data['Parch'].fillna(0).to_numpy(), data['Fare'].fillna(0).to_numpy(), np.array(emb), np.array(sex)]).T\n",
    "train_label = data['Survived'].to_numpy()\n",
    "\n",
    "print(train.shape)\n",
    "print(train_label.shape)"
   ]
  },
  {
   "cell_type": "code",
   "execution_count": 56,
   "id": "choice-remains",
   "metadata": {},
   "outputs": [],
   "source": [
    "model = keras.Sequential(\n",
    "    [\n",
    "        layers.Dense(125, activation = \"sigmoid\", input_shape=(7,)),\n",
    "        layers.Dense(35, activation = \"relu\"),\n",
    "        layers.Dense(35, activation = \"relu\"),\n",
    "        layers.Dense(1, activation = \"sigmoid\")\n",
    "    ]\n",
    ")"
   ]
  },
  {
   "cell_type": "code",
   "execution_count": 57,
   "id": "horizontal-legislation",
   "metadata": {},
   "outputs": [],
   "source": [
    "model.compile(\n",
    "    optimizer = \"adam\",\n",
    "    loss =  tf.keras.losses.BinaryCrossentropy(from_logits=True),\n",
    "    metrics = [\"accuracy\"]\n",
    ")\n"
   ]
  },
  {
   "cell_type": "code",
   "execution_count": 62,
   "id": "challenging-pressure",
   "metadata": {},
   "outputs": [
    {
     "name": "stdout",
     "output_type": "stream",
     "text": [
      "Epoch 1/10\n",
      "33/33 [==============================] - 1s 16ms/step - loss: 0.4545 - accuracy: 0.7928 - val_loss: 0.4118 - val_accuracy: 0.8111\n",
      "Epoch 2/10\n",
      "33/33 [==============================] - 1s 19ms/step - loss: 0.4394 - accuracy: 0.8027 - val_loss: 0.4166 - val_accuracy: 0.8111\n",
      "Epoch 3/10\n",
      "33/33 [==============================] - 0s 12ms/step - loss: 0.4422 - accuracy: 0.7915 - val_loss: 0.4210 - val_accuracy: 0.8000\n",
      "Epoch 4/10\n",
      "33/33 [==============================] - 0s 7ms/step - loss: 0.4316 - accuracy: 0.7990 - val_loss: 0.4056 - val_accuracy: 0.7889\n",
      "Epoch 5/10\n",
      "33/33 [==============================] - 0s 6ms/step - loss: 0.4290 - accuracy: 0.8090 - val_loss: 0.4682 - val_accuracy: 0.7889\n",
      "Epoch 6/10\n",
      "33/33 [==============================] - 0s 4ms/step - loss: 0.4844 - accuracy: 0.7665 - val_loss: 0.4200 - val_accuracy: 0.8444\n",
      "Epoch 7/10\n",
      "33/33 [==============================] - 0s 3ms/step - loss: 0.4335 - accuracy: 0.7890 - val_loss: 0.4311 - val_accuracy: 0.8000\n",
      "Epoch 8/10\n",
      "33/33 [==============================] - 0s 6ms/step - loss: 0.4393 - accuracy: 0.8002 - val_loss: 0.4151 - val_accuracy: 0.7889\n",
      "Epoch 9/10\n",
      "33/33 [==============================] - 0s 4ms/step - loss: 0.4236 - accuracy: 0.8090 - val_loss: 0.4227 - val_accuracy: 0.7889\n",
      "Epoch 10/10\n",
      "33/33 [==============================] - 0s 4ms/step - loss: 0.4336 - accuracy: 0.7953 - val_loss: 0.4019 - val_accuracy: 0.8222\n"
     ]
    },
    {
     "data": {
      "text/plain": [
       "<tensorflow.python.keras.callbacks.History at 0x7fcac3f4f640>"
      ]
     },
     "execution_count": 62,
     "metadata": {},
     "output_type": "execute_result"
    }
   ],
   "source": [
    "model.fit(x = train,  y = train_label, validation_split = 0.1, batch_size = 25, epochs = 10)"
   ]
  },
  {
   "cell_type": "code",
   "execution_count": 63,
   "id": "auburn-possible",
   "metadata": {},
   "outputs": [],
   "source": [
    "test = pd.read_csv(\"titanic/test.csv\")"
   ]
  },
  {
   "cell_type": "code",
   "execution_count": 77,
   "id": "acknowledged-ivory",
   "metadata": {},
   "outputs": [],
   "source": [
    "emb, sex = test['Embarked'].fillna(0), test['Sex'].fillna(0)\n",
    "emb, sex = processEmbarked(emb), processSex(sex)\n",
    "data = test\n",
    "test_set = np.vstack([data['Pclass'].fillna(0).to_numpy(), data['Age'].fillna(0).to_numpy(), data['SibSp'].fillna(0).to_numpy(), data['Parch'].fillna(0).to_numpy(), data['Fare'].fillna(0).to_numpy(), np.array(emb), np.array(sex)]).T\n",
    "\n",
    "\n",
    "k = model.predict(test_set)\n",
    "\n",
    "for i in range(len(k)):\n",
    "    if k[i] > 0.5:\n",
    "        k[i] = 1\n",
    "    else:\n",
    "        k[i] = 0\n",
    "k = k.reshape(418,).astype(int)"
   ]
  },
  {
   "cell_type": "code",
   "execution_count": 78,
   "id": "restricted-battery",
   "metadata": {},
   "outputs": [],
   "source": [
    "d = {'PassengerId': data['PassengerId'].to_numpy(), 'Survived': k}\n",
    "df = pd.DataFrame(data=d)"
   ]
  },
  {
   "cell_type": "code",
   "execution_count": 79,
   "id": "maritime-madness",
   "metadata": {},
   "outputs": [],
   "source": [
    "df.to_csv(r'result.csv', index = False)"
   ]
  },
  {
   "cell_type": "code",
   "execution_count": null,
   "id": "headed-interim",
   "metadata": {},
   "outputs": [],
   "source": []
  }
 ],
 "metadata": {
  "kernelspec": {
   "display_name": "Python 3.8.3 64-bit",
   "language": "python",
   "name": "python38364bit42dafa02fe5c4693a5611bb65a97a6d7"
  },
  "language_info": {
   "codemirror_mode": {
    "name": "ipython",
    "version": 3
   },
   "file_extension": ".py",
   "mimetype": "text/x-python",
   "name": "python",
   "nbconvert_exporter": "python",
   "pygments_lexer": "ipython3",
   "version": "3.8.3"
  }
 },
 "nbformat": 4,
 "nbformat_minor": 5
}
